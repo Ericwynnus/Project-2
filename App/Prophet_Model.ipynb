{
 "cells": [
  {
   "cell_type": "code",
   "execution_count": 1,
   "metadata": {},
   "outputs": [
    {
     "name": "stdout",
     "output_type": "stream",
     "text": [
      "Prophet 0.4\n"
     ]
    }
   ],
   "source": [
    "import fbprophet\n",
    "m = Prophet()\n",
    "m.fit(df)"
   ]
  }
 ],
 "metadata": {
  "interpreter": {
   "hash": "9eef492e34e272b13883882b38fa36833f9164ac4d503b7e52a5334611e4d3b6"
  },
  "kernelspec": {
   "display_name": "Python 3.7.11 ('algotrading')",
   "language": "python",
   "name": "python3"
  },
  "language_info": {
   "codemirror_mode": {
    "name": "ipython",
    "version": 3
   },
   "file_extension": ".py",
   "mimetype": "text/x-python",
   "name": "python",
   "nbconvert_exporter": "python",
   "pygments_lexer": "ipython3",
   "version": "3.7.11"
  },
  "orig_nbformat": 4
 },
 "nbformat": 4,
 "nbformat_minor": 2
}
