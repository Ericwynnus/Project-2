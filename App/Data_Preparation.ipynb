{
 "cells": [
  {
   "cell_type": "code",
   "execution_count": 1,
   "metadata": {},
   "outputs": [],
   "source": [
    "# PyTrends - Bitcoin\n",
    "# Imports\n",
    "import pandas as pd\n",
    "from pytrends.request import TrendReq\n",
    "from pathlib import Path\n",
    "\n",
    "# Connect to Google Trends.  tz of 360 = CST\n",
    "pytrends = TrendReq(hl='en-US', tz=360) \n",
    "\n",
    "# Queries Google Trends via the PyTrends API\n",
    "def createPyTrendsDF(topic, name):\n",
    "    kw_list = [topic] # list of keywords to get data \n",
    "\n",
    "    pytrends.build_payload(kw_list, cat=0, timeframe='2021-01-01 2021-08-31')\n",
    "    trend = pytrends.interest_over_time()\n",
    "    trend = trend.drop('isPartial', axis=1)\n",
    "    trend = trend.rename(columns={topic: name})\n",
    "    trend.index.name = 'Day'\n",
    "\n",
    "    return trend\n",
    "\n",
    "# Persists DF as a CSV file\n",
    "def persistDF(df, path):\n",
    "    trend_path = Path(path)\n",
    "    df.to_csv(trend_path)"
   ]
  },
  {
   "cell_type": "code",
   "execution_count": 2,
   "metadata": {},
   "outputs": [
    {
     "name": "stdout",
     "output_type": "stream",
     "text": [
      "             mid         title            type\n",
      "0     /m/05p0rrx       Bitcoin        Currency\n",
      "1  /g/11gdq16zww   Bitcoin.com         Company\n",
      "2     /m/0y4vk1r        Kraken         Company\n",
      "3  /g/11d_wtvc5k  Bitcoin Cash  Cryptocurrency\n",
      "4  /g/11gxssjj8h    Bitcoin SV           Topic\n"
     ]
    }
   ],
   "source": [
    "# Discover the best search term to limit results for Bitcoin \n",
    "keywords = pytrends.suggestions(keyword='Bitcoin')\n",
    "df = pd.DataFrame(keywords)\n",
    "print(df)"
   ]
  },
  {
   "cell_type": "code",
   "execution_count": 3,
   "metadata": {},
   "outputs": [
    {
     "data": {
      "text/html": [
       "<div>\n",
       "<style scoped>\n",
       "    .dataframe tbody tr th:only-of-type {\n",
       "        vertical-align: middle;\n",
       "    }\n",
       "\n",
       "    .dataframe tbody tr th {\n",
       "        vertical-align: top;\n",
       "    }\n",
       "\n",
       "    .dataframe thead th {\n",
       "        text-align: right;\n",
       "    }\n",
       "</style>\n",
       "<table border=\"1\" class=\"dataframe\">\n",
       "  <thead>\n",
       "    <tr style=\"text-align: right;\">\n",
       "      <th></th>\n",
       "      <th>Bitcoin</th>\n",
       "    </tr>\n",
       "    <tr>\n",
       "      <th>Day</th>\n",
       "      <th></th>\n",
       "    </tr>\n",
       "  </thead>\n",
       "  <tbody>\n",
       "    <tr>\n",
       "      <th>2021-01-01</th>\n",
       "      <td>29</td>\n",
       "    </tr>\n",
       "    <tr>\n",
       "      <th>2021-01-02</th>\n",
       "      <td>50</td>\n",
       "    </tr>\n",
       "    <tr>\n",
       "      <th>2021-01-03</th>\n",
       "      <td>60</td>\n",
       "    </tr>\n",
       "    <tr>\n",
       "      <th>2021-01-04</th>\n",
       "      <td>50</td>\n",
       "    </tr>\n",
       "    <tr>\n",
       "      <th>2021-01-05</th>\n",
       "      <td>40</td>\n",
       "    </tr>\n",
       "  </tbody>\n",
       "</table>\n",
       "</div>"
      ],
      "text/plain": [
       "            Bitcoin\n",
       "Day                \n",
       "2021-01-01       29\n",
       "2021-01-02       50\n",
       "2021-01-03       60\n",
       "2021-01-04       50\n",
       "2021-01-05       40"
      ]
     },
     "execution_count": 3,
     "metadata": {},
     "output_type": "execute_result"
    }
   ],
   "source": [
    "# Data Gathering - \"/m/05p0rrx\" is a query to scope \"Bitcoin\" to the cryptocurrency\n",
    "bitcoin = createPyTrendsDF(\"/m/05p0rrx\", \"Bitcoin\")\n",
    "bitcoin.head()"
   ]
  },
  {
   "cell_type": "code",
   "execution_count": 4,
   "metadata": {},
   "outputs": [],
   "source": [
    "# Data Persistence (to ensure the data is available while we're offline)\n",
    "persistDF(bitcoin, '../resources/btc-2021-01-2021-08.csv')"
   ]
  },
  {
   "cell_type": "code",
   "execution_count": null,
   "metadata": {},
   "outputs": [],
   "source": [
    "# Fear and Greed Index"
   ]
  },
  {
   "cell_type": "code",
   "execution_count": null,
   "metadata": {},
   "outputs": [],
   "source": [
    "# btc price (already retrieved as CSV)"
   ]
  },
  {
   "cell_type": "code",
   "execution_count": null,
   "metadata": {},
   "outputs": [],
   "source": [
    "# Prepare price for univariate analysis"
   ]
  },
  {
   "cell_type": "code",
   "execution_count": null,
   "metadata": {},
   "outputs": [],
   "source": [
    "# Prepare pytrends, fng, price for multivariate analysis"
   ]
  }
 ],
 "metadata": {
  "interpreter": {
   "hash": "cef8de2bc538eb941a3bca282b628e09b8b3b65d358620d004d971185ce2a93e"
  },
  "kernelspec": {
   "display_name": "Python 3.7.7 ('pyvizenv')",
   "language": "python",
   "name": "python3"
  },
  "language_info": {
   "codemirror_mode": {
    "name": "ipython",
    "version": 3
   },
   "file_extension": ".py",
   "mimetype": "text/x-python",
   "name": "python",
   "nbconvert_exporter": "python",
   "pygments_lexer": "ipython3",
   "version": "3.7.7"
  },
  "orig_nbformat": 4
 },
 "nbformat": 4,
 "nbformat_minor": 2
}
